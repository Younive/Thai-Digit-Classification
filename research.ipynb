{
 "cells": [
  {
   "cell_type": "code",
   "execution_count": 18,
   "metadata": {},
   "outputs": [],
   "source": [
    "import os # os: Operating system interactions (file and directory manipulation).\n",
    "import os.path as op # op: Alias for os.path, used for path-related operations.\n",
    "import shutil # shutil: High-level file operations (copy, move, delete).\n",
    "from glob import glob # glob: File and directory name pattern matching.\n",
    "from pathlib import Path # pathlib.Path: Object-oriented file system path representation.\n",
    "from tqdm.auto import tqdm # tqdm: Progress bars for tracking task completion.\n",
    "from sklearn.model_selection import train_test_split\n",
    "from PIL import  Image"
   ]
  },
  {
   "cell_type": "code",
   "execution_count": 6,
   "metadata": {},
   "outputs": [],
   "source": [
    "directory = \"data/\"\n",
    "paths = glob(op.join(directory, \"thai-handwritten-dataset\", \"*\", \"*\")) # all folder, all file in folder"
   ]
  },
  {
   "cell_type": "code",
   "execution_count": 12,
   "metadata": {},
   "outputs": [
    {
     "data": {
      "text/plain": [
       "Counter({'0': 175,\n",
       "         '1': 175,\n",
       "         '2': 175,\n",
       "         '3': 175,\n",
       "         '4': 175,\n",
       "         '5': 175,\n",
       "         '6': 175,\n",
       "         '7': 175,\n",
       "         '8': 175,\n",
       "         '9': 175})"
      ]
     },
     "execution_count": 12,
     "metadata": {},
     "output_type": "execute_result"
    }
   ],
   "source": [
    "# TODO: use Counter from collection to count the number, use Pathlib to get the parent folder name\n",
    "from collections import Counter\n",
    "Counter([Path(p).parent.name for p in paths])"
   ]
  },
  {
   "cell_type": "code",
   "execution_count": 19,
   "metadata": {},
   "outputs": [
    {
     "name": "stdout",
     "output_type": "stream",
     "text": [
      "2\n"
     ]
    },
    {
     "data": {
      "image/png": "[encoded data removed]",
      "text/plain": [
       "<PIL.PngImagePlugin.PngImageFile image mode=RGBA size=300x300>"
      ]
     },
     "execution_count": 19,
     "metadata": {},
     "output_type": "execute_result"
    }
   ],
   "source": [
    "# TODO: Use Pillow's Image to read and open one file\n",
    "idx = 400\n",
    "print(Path(paths[idx]).parent.name)\n",
    "Image.open(paths[idx])"
   ]
  },
  {
   "cell_type": "code",
   "execution_count": 21,
   "metadata": {},
   "outputs": [
    {
     "data": {
      "text/plain": [
       "(1575, 175)"
      ]
     },
     "execution_count": 21,
     "metadata": {},
     "output_type": "execute_result"
    }
   ],
   "source": [
    "# TODO: Use train_test_split to split image into 90% training and 10% validation\n",
    "train_paths, validation_paths = train_test_split(paths, test_size=0.1, random_state=42)\n",
    "len(train_paths), len(validation_paths)"
   ]
  },
  {
   "cell_type": "code",
   "execution_count": 22,
   "metadata": {},
   "outputs": [],
   "source": [
    "# Create directory\n",
    "for i in range(10):\n",
    "    os.makedirs(f\"data/train/{i}\", exist_ok=True)\n",
    "    os.makedirs(f\"data/validation/{i}\",exist_ok=True)"
   ]
  },
  {
   "cell_type": "code",
   "execution_count": 23,
   "metadata": {},
   "outputs": [],
   "source": [
    "def copy_to_destination(src_paths, dst_path):\n",
    "    \"\"\"\n",
    "    Copy list of src_paths to destination path (dst_path)\n",
    "    \"\"\"\n",
    "    for path in tqdm(src_paths):\n",
    "        path = Path(path)\n",
    "        parent_dir = path.parent.name\n",
    "        shutil.copy(path, op.join(dst_path, parent_dir, path.name))"
   ]
  },
  {
   "cell_type": "code",
   "execution_count": 24,
   "metadata": {},
   "outputs": [
    {
     "data": {
      "application/vnd.jupyter.widget-view+json": {
       "model_id": "002ac37945c94d368de167412052ff35",
       "version_major": 2,
       "version_minor": 0
      },
      "text/plain": [
       "  0%|          | 0/1575 [00:00<?, ?it/s]"
      ]
     },
     "metadata": {},
     "output_type": "display_data"
    },
    {
     "data": {
      "application/vnd.jupyter.widget-view+json": {
       "model_id": "21582ad0653646638d4b789b131892b0",
       "version_major": 2,
       "version_minor": 0
      },
      "text/plain": [
       "  0%|          | 0/175 [00:00<?, ?it/s]"
      ]
     },
     "metadata": {},
     "output_type": "display_data"
    }
   ],
   "source": [
    "copy_to_destination(train_paths, \"data/train/\")\n",
    "copy_to_destination(validation_paths, \"data/validation/\")"
   ]
  },
  {
   "cell_type": "code",
   "execution_count": 25,
   "metadata": {},
   "outputs": [
    {
     "data": {
      "text/plain": [
       "(1575, 175)"
      ]
     },
     "execution_count": 25,
     "metadata": {},
     "output_type": "execute_result"
    }
   ],
   "source": [
    "len(glob(\"data/train/*/*\")), len(glob(\"data/validation/*/*\"))"
   ]
  },
  {
   "cell_type": "code",
   "execution_count": 28,
   "metadata": {},
   "outputs": [],
   "source": [
    "import torchgen\n",
    "from torch.utils.data import Dataset, DataLoader\n",
    "from torchvision import transforms\n",
    "import matplotlib.pyplot as plt"
   ]
  },
  {
   "cell_type": "code",
   "execution_count": 29,
   "metadata": {},
   "outputs": [],
   "source": [
    "# Create image transforms ; resize, convert to grey scale, normalize tensor\n",
    "\n",
    "resize_transforms = transforms.Resize((28,28))\n",
    "grey_scale_transform = transforms.Grayscale()\n",
    "tensor_transforms = transforms.ToTensor()"
   ]
  },
  {
   "cell_type": "code",
   "execution_count": 31,
   "metadata": {},
   "outputs": [
    {
     "data": {
      "image/png": "[encoded data removed]",
      "text/plain": [
       "<PIL.PngImagePlugin.PngImageFile image mode=RGBA size=300x300>"
      ]
     },
     "execution_count": 31,
     "metadata": {},
     "output_type": "execute_result"
    }
   ],
   "source": [
    "img = Image.open(paths[100])\n",
    "img"
   ]
  },
  {
   "cell_type": "code",
   "execution_count": 32,
   "metadata": {},
   "outputs": [
    {
     "data": {
      "image/png": "[encoded data removed]",
      "text/plain": [
       "<PIL.Image.Image image mode=RGBA size=28x28>"
      ]
     },
     "execution_count": 32,
     "metadata": {},
     "output_type": "execute_result"
    }
   ],
   "source": [
    "resize_transforms(img)"
   ]
  },
  {
   "cell_type": "code",
   "execution_count": 33,
   "metadata": {},
   "outputs": [
    {
     "data": {
      "image/jpeg": "[encoded data removed]",
      "image/png": "[encoded data removed]",
      "text/plain": [
       "<PIL.Image.Image image mode=L size=28x28>"
      ]
     },
     "execution_count": 33,
     "metadata": {},
     "output_type": "execute_result"
    }
   ],
   "source": [
    "grey_scale_transform(resize_transforms(img))"
   ]
  },
  {
   "cell_type": "code",
   "execution_count": 35,
   "metadata": {},
   "outputs": [
    {
     "data": {
      "text/plain": [
       "torch.Size([1, 28, 28])"
      ]
     },
     "execution_count": 35,
     "metadata": {},
     "output_type": "execute_result"
    }
   ],
   "source": [
    "img_tensor = tensor_transforms(grey_scale_transform(resize_transforms(img)))\n",
    "img_tensor.shape"
   ]
  },
  {
   "cell_type": "code",
   "execution_count": 45,
   "metadata": {},
   "outputs": [
    {
     "data": {
      "text/plain": [
       "tensor([[[0.0000, 0.0000, 0.0000, 0.0000, 0.0000, 0.0000, 0.0000, 0.0000,\n",
       "          0.0000, 0.0000, 0.0000, 0.0000, 0.0000, 0.0000, 0.0000, 0.0000,\n",
       "          0.0000, 0.0000, 0.0000, 0.0000, 0.0000, 0.0000, 0.0000, 0.0000,\n",
       "          0.0000, 0.0000, 0.0000, 0.0000],\n",
       "         [0.0000, 0.0000, 0.0000, 0.0000, 0.0000, 0.0000, 0.0000, 0.0000,\n",
       "          0.0000, 0.0000, 0.0000, 0.0000, 0.0000, 0.0000, 0.0000, 0.0000,\n",
       "          0.0000, 0.0000, 0.0000, 0.0000, 0.0000, 0.0000, 0.0000, 0.0000,\n",
       "          0.0000, 0.0000, 0.0000, 0.0000],\n",
       "         [0.0000, 0.0000, 0.0000, 0.0000, 0.0000, 0.0000, 0.0000, 0.0000,\n",
       "          0.0000, 0.0000, 0.0000, 0.0000, 0.0000, 0.0000, 0.0000, 0.0000,\n",
       "          0.0000, 0.0000, 0.0000, 0.0000, 0.0000, 0.0000, 0.0000, 0.0000,\n",
       "          0.0000, 0.0000, 0.0000, 0.0000],\n",
       "         [0.0000, 0.0000, 0.0000, 0.0000, 0.0000, 0.0000, 0.0000, 0.0000,\n",
       "          0.0000, 0.0000, 0.0000, 0.0000, 0.0000, 0.0000, 0.0000, 0.0000,\n",
       "          0.0039, 0.0196, 0.0157, 0.0000, 0.0000, 0.0000, 0.0000, 0.0000,\n",
       "          0.0000, 0.0000, 0.0000, 0.0000],\n",
       "         [0.0000, 0.0000, 0.0000, 0.0000, 0.0000, 0.0000, 0.0000, 0.0000,\n",
       "          0.0000, 0.0000, 0.0000, 0.0000, 0.0000, 0.0000, 0.0000, 0.0078,\n",
       "          0.2745, 0.6588, 0.6314, 0.3490, 0.0510, 0.0000, 0.0000, 0.0000,\n",
       "          0.0000, 0.0000, 0.0000, 0.0000],\n",
       "         [0.0000, 0.0000, 0.0000, 0.0000, 0.0000, 0.0000, 0.0000, 0.0000,\n",
       "          0.0000, 0.0000, 0.0000, 0.0000, 0.0000, 0.0157, 0.1804, 0.4353,\n",
       "          0.8706, 0.8980, 0.8471, 0.9412, 0.6000, 0.1098, 0.0000, 0.0000,\n",
       "          0.0000, 0.0000, 0.0000, 0.0000],\n",
       "         [0.0000, 0.0000, 0.0000, 0.0000, 0.0000, 0.0000, 0.0000, 0.0000,\n",
       "          0.0000, 0.0000, 0.0000, 0.0039, 0.1255, 0.5059, 0.8824, 0.9294,\n",
       "          0.7765, 0.3059, 0.1176, 0.5137, 0.9176, 0.6980, 0.1216, 0.0000,\n",
       "          0.0000, 0.0000, 0.0000, 0.0000],\n",
       "         [0.0000, 0.0000, 0.0000, 0.0000, 0.0000, 0.0000, 0.0000, 0.0000,\n",
       "          0.0000, 0.0000, 0.0196, 0.2902, 0.8039, 0.9216, 0.6235, 0.2431,\n",
       "          0.0745, 0.0039, 0.0000, 0.0235, 0.3804, 0.9098, 0.6941, 0.0980,\n",
       "          0.0000, 0.0000, 0.0000, 0.0000],\n",
       "         [0.0000, 0.0000, 0.0000, 0.0000, 0.0000, 0.0000, 0.0000, 0.0000,\n",
       "          0.0000, 0.0196, 0.4157, 0.9020, 0.7882, 0.2902, 0.0353, 0.0000,\n",
       "          0.0000, 0.0000, 0.0000, 0.0000, 0.0196, 0.3961, 0.9255, 0.5529,\n",
       "          0.0235, 0.0000, 0.0000, 0.0000],\n",
       "         [0.0000, 0.0000, 0.0000, 0.0000, 0.0000, 0.0000, 0.0000, 0.0000,\n",
       "          0.0039, 0.3098, 0.9098, 0.6745, 0.1412, 0.0039, 0.0000, 0.0000,\n",
       "          0.0000, 0.0000, 0.0000, 0.0000, 0.0000, 0.0314, 0.6000, 0.8784,\n",
       "          0.1529, 0.0000, 0.0000, 0.0000],\n",
       "         [0.0000, 0.0000, 0.0000, 0.0000, 0.0000, 0.0000, 0.0000, 0.0000,\n",
       "          0.0588, 0.7529, 0.8000, 0.1294, 0.0000, 0.0000, 0.0000, 0.0000,\n",
       "          0.0000, 0.0000, 0.0000, 0.0000, 0.0000, 0.0039, 0.4941, 0.9216,\n",
       "          0.2039, 0.0000, 0.0000, 0.0000],\n",
       "         [0.0000, 0.0000, 0.0000, 0.0000, 0.0000, 0.0000, 0.0000, 0.0000,\n",
       "          0.1686, 0.8980, 0.4824, 0.0039, 0.0000, 0.0000, 0.0000, 0.0000,\n",
       "          0.0000, 0.0000, 0.0000, 0.0000, 0.0000, 0.1176, 0.8157, 0.6980,\n",
       "          0.0510, 0.0000, 0.0000, 0.0000],\n",
       "         [0.0000, 0.0000, 0.0000, 0.0000, 0.0000, 0.0000, 0.0000, 0.0000,\n",
       "          0.3294, 0.9412, 0.2902, 0.0000, 0.0000, 0.0000, 0.0000, 0.0000,\n",
       "          0.0000, 0.0000, 0.0000, 0.0000, 0.0078, 0.4745, 0.9255, 0.2941,\n",
       "          0.0000, 0.0000, 0.0000, 0.0000],\n",
       "         [0.0000, 0.0000, 0.0000, 0.0000, 0.0000, 0.0000, 0.0000, 0.0000,\n",
       "          0.4078, 0.9176, 0.1843, 0.0000, 0.0000, 0.0000, 0.0000, 0.0000,\n",
       "          0.0000, 0.0000, 0.0000, 0.0000, 0.1059, 0.8196, 0.6706, 0.0431,\n",
       "          0.0000, 0.0000, 0.0000, 0.0000],\n",
       "         [0.0000, 0.0000, 0.0000, 0.0000, 0.0000, 0.0000, 0.0000, 0.0000,\n",
       "          0.4118, 0.9176, 0.1804, 0.0000, 0.0000, 0.0000, 0.0000, 0.0000,\n",
       "          0.0000, 0.0000, 0.0000, 0.0000, 0.3020, 0.9373, 0.3333, 0.0000,\n",
       "          0.0000, 0.0000, 0.0000, 0.0000],\n",
       "         [0.0000, 0.0000, 0.0000, 0.0000, 0.0000, 0.0000, 0.0000, 0.0000,\n",
       "          0.3882, 0.9255, 0.2000, 0.0000, 0.0000, 0.0000, 0.0000, 0.0000,\n",
       "          0.0000, 0.0000, 0.0000, 0.0118, 0.5765, 0.8588, 0.1294, 0.0000,\n",
       "          0.0000, 0.0000, 0.0000, 0.0000],\n",
       "         [0.0000, 0.0000, 0.0000, 0.0000, 0.0000, 0.0000, 0.0000, 0.0000,\n",
       "          0.2745, 0.9373, 0.3451, 0.0000, 0.0000, 0.0000, 0.0000, 0.0000,\n",
       "          0.0000, 0.0000, 0.0000, 0.1333, 0.8431, 0.6275, 0.0196, 0.0000,\n",
       "          0.0000, 0.0000, 0.0000, 0.0000],\n",
       "         [0.0000, 0.0000, 0.0000, 0.0000, 0.0000, 0.0000, 0.0000, 0.0000,\n",
       "          0.1020, 0.8157, 0.6863, 0.0431, 0.0000, 0.0000, 0.0000, 0.0000,\n",
       "          0.0000, 0.0000, 0.0157, 0.4980, 0.9216, 0.2667, 0.0000, 0.0000,\n",
       "          0.0000, 0.0000, 0.0000, 0.0000],\n",
       "         [0.0000, 0.0000, 0.0000, 0.0000, 0.0000, 0.0000, 0.0000, 0.0000,\n",
       "          0.0078, 0.4627, 0.9255, 0.3529, 0.0471, 0.0039, 0.0118, 0.0471,\n",
       "          0.1176, 0.2706, 0.5216, 0.9059, 0.6392, 0.0392, 0.0000, 0.0000,\n",
       "          0.0000, 0.0000, 0.0000, 0.0000],\n",
       "         [0.0000, 0.0000, 0.0000, 0.0000, 0.0000, 0.0000, 0.0000, 0.0000,\n",
       "          0.0000, 0.1216, 0.7725, 0.9255, 0.7137, 0.5451, 0.6353, 0.7490,\n",
       "          0.8588, 0.9333, 0.8941, 0.6471, 0.1294, 0.0000, 0.0000, 0.0000,\n",
       "          0.0000, 0.0000, 0.0000, 0.0000],\n",
       "         [0.0000, 0.0000, 0.0000, 0.0000, 0.0000, 0.0000, 0.0000, 0.0000,\n",
       "          0.0000, 0.0039, 0.1451, 0.4784, 0.7843, 0.8627, 0.7961, 0.6941,\n",
       "          0.5412, 0.3490, 0.1647, 0.0431, 0.0000, 0.0000, 0.0000, 0.0000,\n",
       "          0.0000, 0.0000, 0.0000, 0.0000],\n",
       "         [0.0000, 0.0000, 0.0000, 0.0000, 0.0000, 0.0000, 0.0000, 0.0000,\n",
       "          0.0000, 0.0000, 0.0000, 0.0039, 0.0745, 0.1137, 0.0667, 0.0275,\n",
       "          0.0039, 0.0000, 0.0000, 0.0000, 0.0000, 0.0000, 0.0000, 0.0000,\n",
       "          0.0000, 0.0000, 0.0000, 0.0000],\n",
       "         [0.0000, 0.0000, 0.0000, 0.0000, 0.0000, 0.0000, 0.0000, 0.0000,\n",
       "          0.0000, 0.0000, 0.0000, 0.0000, 0.0000, 0.0000, 0.0000, 0.0000,\n",
       "          0.0000, 0.0000, 0.0000, 0.0000, 0.0000, 0.0000, 0.0000, 0.0000,\n",
       "          0.0000, 0.0000, 0.0000, 0.0000],\n",
       "         [0.0000, 0.0000, 0.0000, 0.0000, 0.0000, 0.0000, 0.0000, 0.0000,\n",
       "          0.0000, 0.0000, 0.0000, 0.0000, 0.0000, 0.0000, 0.0000, 0.0000,\n",
       "          0.0000, 0.0000, 0.0000, 0.0000, 0.0000, 0.0000, 0.0000, 0.0000,\n",
       "          0.0000, 0.0000, 0.0000, 0.0000],\n",
       "         [0.0000, 0.0000, 0.0000, 0.0000, 0.0000, 0.0000, 0.0000, 0.0000,\n",
       "          0.0000, 0.0000, 0.0000, 0.0000, 0.0000, 0.0000, 0.0000, 0.0000,\n",
       "          0.0000, 0.0000, 0.0000, 0.0000, 0.0000, 0.0000, 0.0000, 0.0000,\n",
       "          0.0000, 0.0000, 0.0000, 0.0000],\n",
       "         [0.0000, 0.0000, 0.0000, 0.0000, 0.0000, 0.0000, 0.0000, 0.0000,\n",
       "          0.0000, 0.0000, 0.0000, 0.0000, 0.0000, 0.0000, 0.0000, 0.0000,\n",
       "          0.0000, 0.0000, 0.0000, 0.0000, 0.0000, 0.0000, 0.0000, 0.0000,\n",
       "          0.0000, 0.0000, 0.0000, 0.0000],\n",
       "         [0.0000, 0.0000, 0.0000, 0.0000, 0.0000, 0.0000, 0.0000, 0.0000,\n",
       "          0.0000, 0.0000, 0.0000, 0.0000, 0.0000, 0.0000, 0.0000, 0.0000,\n",
       "          0.0000, 0.0000, 0.0000, 0.0000, 0.0000, 0.0000, 0.0000, 0.0000,\n",
       "          0.0000, 0.0000, 0.0000, 0.0000],\n",
       "         [0.0000, 0.0000, 0.0000, 0.0000, 0.0000, 0.0000, 0.0000, 0.0000,\n",
       "          0.0000, 0.0000, 0.0000, 0.0000, 0.0000, 0.0000, 0.0000, 0.0000,\n",
       "          0.0000, 0.0000, 0.0000, 0.0000, 0.0000, 0.0000, 0.0000, 0.0000,\n",
       "          0.0000, 0.0000, 0.0000, 0.0000]]])"
      ]
     },
     "execution_count": 45,
     "metadata": {},
     "output_type": "execute_result"
    }
   ],
   "source": [
    "1 - img_tensor"
   ]
  },
  {
   "cell_type": "code",
   "execution_count": 39,
   "metadata": {},
   "outputs": [],
   "source": [
    "transform = transforms.Compose([\n",
    "        transforms.Resize((28,28)),\n",
    "        transforms.Grayscale(),\n",
    "        transforms.ToTensor()\n",
    "    ])"
   ]
  },
  {
   "cell_type": "code",
   "execution_count": 41,
   "metadata": {},
   "outputs": [
    {
     "data": {
      "text/plain": [
       "<function matplotlib.pyplot.show(close=None, block=None)>"
      ]
     },
     "execution_count": 41,
     "metadata": {},
     "output_type": "execute_result"
    },
    {
     "data": {
      "image/png": "[encoded data removed]",
      "text/plain": [
       "<Figure size 640x480 with 1 Axes>"
      ]
     },
     "metadata": {},
     "output_type": "display_data"
    }
   ],
   "source": [
    "img_t = 1 - transform(img).squeeze(0)\n",
    "plt.imshow(img_t, cmap=\"grey\")\n",
    "plt.title(\"image\")\n",
    "plt.show"
   ]
  },
  {
   "cell_type": "markdown",
   "metadata": {},
   "source": [
    "## Create custom dataset\n"
   ]
  },
  {
   "cell_type": "code",
   "execution_count": 53,
   "metadata": {},
   "outputs": [],
   "source": [
    "class ThaiDigitDataset(Dataset):\n",
    "    def __init__(self, img_dir: str, transform=None):\n",
    "        # TODO: Input img_dir, create a relatioship between image path and label\n",
    "        self.img_dir = img_dir\n",
    "        self.transform = transform\n",
    "        self.img_lables = [ (p, Path(p).parent.name) for p in glob(op.join(img_dir,\"*\",\"*\")) ]\n",
    "\n",
    "    def __len__(self):\n",
    "        # TODO: Find length of the dataset\n",
    "        return len(self.img_lables)\n",
    "\n",
    "    def __getitem__(self, idx):\n",
    "        # TODO:\n",
    "        image_path, label = self.img_lables[idx]\n",
    "        label = int(label)\n",
    "        image = Image.open(image_path)\n",
    "        if self.transform is not None:\n",
    "            image = 1 - self.transform(image)\n",
    "        return image, label"
   ]
  },
  {
   "cell_type": "code",
   "execution_count": 54,
   "metadata": {},
   "outputs": [],
   "source": [
    "train_thaidigitdataset = ThaiDigitDataset(\"data/train/\",transform=transform)\n",
    "validation_thaidigitdataset = ThaiDigitDataset(\"data/validation/\",transform=transform)"
   ]
  },
  {
   "cell_type": "code",
   "execution_count": 55,
   "metadata": {},
   "outputs": [
    {
     "data": {
      "text/plain": [
       "(tensor([[[0.0000, 0.0000, 0.0000, 0.0000, 0.0000, 0.0000, 0.0000, 0.0000,\n",
       "           0.0000, 0.0000, 0.0000, 0.0000, 0.0000, 0.0000, 0.0000, 0.0000,\n",
       "           0.0000, 0.0000, 0.0000, 0.0000, 0.0000, 0.0000, 0.0000, 0.0000,\n",
       "           0.0000, 0.0000, 0.0000, 0.0000],\n",
       "          [0.0000, 0.0000, 0.0000, 0.0000, 0.0000, 0.0000, 0.0000, 0.0000,\n",
       "           0.0000, 0.0000, 0.0000, 0.0000, 0.0000, 0.0000, 0.0000, 0.0000,\n",
       "           0.0000, 0.0000, 0.0000, 0.0000, 0.0000, 0.0000, 0.0000, 0.0000,\n",
       "           0.0000, 0.0000, 0.0000, 0.0000],\n",
       "          [0.0000, 0.0000, 0.0000, 0.0000, 0.0000, 0.0000, 0.0000, 0.0000,\n",
       "           0.0000, 0.0000, 0.0000, 0.0000, 0.0000, 0.0000, 0.0000, 0.0000,\n",
       "           0.0000, 0.0000, 0.0000, 0.0000, 0.0000, 0.0000, 0.0000, 0.0000,\n",
       "           0.0000, 0.0000, 0.0000, 0.0000],\n",
       "          [0.0000, 0.0000, 0.0000, 0.0000, 0.0000, 0.0000, 0.0000, 0.0000,\n",
       "           0.0000, 0.0000, 0.0000, 0.0000, 0.0000, 0.0000, 0.0000, 0.0000,\n",
       "           0.0000, 0.0000, 0.0000, 0.0000, 0.0000, 0.0000, 0.0000, 0.0000,\n",
       "           0.0000, 0.0000, 0.0000, 0.0000],\n",
       "          [0.0000, 0.0000, 0.0000, 0.0000, 0.0000, 0.0000, 0.0000, 0.0000,\n",
       "           0.0000, 0.0000, 0.0000, 0.0000, 0.0000, 0.0000, 0.0000, 0.0000,\n",
       "           0.0000, 0.0000, 0.0000, 0.0000, 0.0000, 0.0000, 0.0000, 0.0000,\n",
       "           0.0000, 0.0000, 0.0000, 0.0000],\n",
       "          [0.0000, 0.0000, 0.0000, 0.0000, 0.0000, 0.0000, 0.0000, 0.0000,\n",
       "           0.0000, 0.0000, 0.0000, 0.0000, 0.0000, 0.0000, 0.0000, 0.0000,\n",
       "           0.0000, 0.0000, 0.0000, 0.0000, 0.0000, 0.0000, 0.0000, 0.0000,\n",
       "           0.0000, 0.0000, 0.0000, 0.0000],\n",
       "          [0.0000, 0.0000, 0.0000, 0.0000, 0.0000, 0.0000, 0.0000, 0.0000,\n",
       "           0.0000, 0.0000, 0.0000, 0.0000, 0.0000, 0.0000, 0.0000, 0.0000,\n",
       "           0.0000, 0.0000, 0.0000, 0.0000, 0.0000, 0.0000, 0.0000, 0.0000,\n",
       "           0.0000, 0.0000, 0.0000, 0.0000],\n",
       "          [0.0000, 0.0000, 0.0000, 0.0000, 0.0000, 0.0000, 0.0000, 0.0000,\n",
       "           0.0000, 0.0000, 0.0000, 0.0000, 0.0000, 0.0000, 0.0000, 0.0000,\n",
       "           0.0000, 0.0000, 0.0000, 0.0000, 0.0000, 0.0000, 0.0000, 0.0000,\n",
       "           0.0000, 0.0000, 0.0000, 0.0000],\n",
       "          [0.0000, 0.0000, 0.0000, 0.0000, 0.0000, 0.0000, 0.0000, 0.0000,\n",
       "           0.0000, 0.0000, 0.0000, 0.0000, 0.0000, 0.0000, 0.0000, 0.0000,\n",
       "           0.0000, 0.0000, 0.0000, 0.0000, 0.0000, 0.0000, 0.0000, 0.0000,\n",
       "           0.0000, 0.0000, 0.0000, 0.0000],\n",
       "          [0.0000, 0.0000, 0.0000, 0.0000, 0.0000, 0.0000, 0.0000, 0.0000,\n",
       "           0.0000, 0.0000, 0.0000, 0.0000, 0.0000, 0.0000, 0.0000, 0.0000,\n",
       "           0.0000, 0.0000, 0.0000, 0.0000, 0.0000, 0.0000, 0.0000, 0.0000,\n",
       "           0.0000, 0.0000, 0.0000, 0.0000],\n",
       "          [0.0000, 0.0000, 0.0000, 0.0000, 0.0000, 0.0000, 0.0000, 0.0000,\n",
       "           0.0000, 0.0000, 0.0000, 0.0000, 0.0000, 0.0078, 0.0118, 0.0000,\n",
       "           0.0000, 0.0000, 0.0000, 0.0000, 0.0000, 0.0000, 0.0000, 0.0000,\n",
       "           0.0000, 0.0000, 0.0000, 0.0000],\n",
       "          [0.0000, 0.0000, 0.0000, 0.0000, 0.0000, 0.0000, 0.0000, 0.0000,\n",
       "           0.0000, 0.0000, 0.0000, 0.0196, 0.2706, 0.5882, 0.6275, 0.3137,\n",
       "           0.0235, 0.0000, 0.0000, 0.0000, 0.0000, 0.0000, 0.0000, 0.0000,\n",
       "           0.0000, 0.0000, 0.0000, 0.0000],\n",
       "          [0.0000, 0.0000, 0.0000, 0.0000, 0.0000, 0.0000, 0.0000, 0.0000,\n",
       "           0.0000, 0.0000, 0.0039, 0.3176, 0.9059, 0.9647, 0.8667, 0.9137,\n",
       "           0.3686, 0.0118, 0.0000, 0.0000, 0.0000, 0.0000, 0.0000, 0.0000,\n",
       "           0.0000, 0.0000, 0.0000, 0.0000],\n",
       "          [0.0000, 0.0000, 0.0000, 0.0000, 0.0000, 0.0000, 0.0000, 0.0000,\n",
       "           0.0000, 0.0000, 0.1922, 0.8431, 0.8784, 0.6588, 0.2039, 0.7137,\n",
       "           0.8706, 0.1922, 0.0000, 0.0000, 0.0000, 0.0000, 0.0000, 0.0000,\n",
       "           0.0000, 0.0000, 0.0000, 0.0000],\n",
       "          [0.0000, 0.0000, 0.0000, 0.0000, 0.0000, 0.0000, 0.0000, 0.0000,\n",
       "           0.0000, 0.0431, 0.6627, 0.8706, 0.2431, 0.0471, 0.0039, 0.2157,\n",
       "           0.9098, 0.4706, 0.0000, 0.0000, 0.0000, 0.0000, 0.0000, 0.0000,\n",
       "           0.0000, 0.0000, 0.0000, 0.0000],\n",
       "          [0.0000, 0.0000, 0.0000, 0.0000, 0.0000, 0.0000, 0.0000, 0.0000,\n",
       "           0.0000, 0.1569, 0.8980, 0.5137, 0.0118, 0.0000, 0.0000, 0.0980,\n",
       "           0.8471, 0.5451, 0.0000, 0.0000, 0.0000, 0.0000, 0.0000, 0.0000,\n",
       "           0.0000, 0.0000, 0.0000, 0.0000],\n",
       "          [0.0000, 0.0000, 0.0000, 0.0000, 0.0000, 0.0000, 0.0000, 0.0000,\n",
       "           0.0000, 0.1843, 0.9176, 0.3922, 0.0000, 0.0000, 0.0000, 0.1255,\n",
       "           0.8706, 0.5176, 0.0000, 0.0000, 0.0000, 0.0000, 0.0000, 0.0000,\n",
       "           0.0000, 0.0000, 0.0000, 0.0000],\n",
       "          [0.0000, 0.0000, 0.0000, 0.0000, 0.0000, 0.0000, 0.0000, 0.0000,\n",
       "           0.0000, 0.1608, 0.8941, 0.6667, 0.2314, 0.1216, 0.1294, 0.4471,\n",
       "           0.9412, 0.3451, 0.0000, 0.0000, 0.0000, 0.0000, 0.0000, 0.0000,\n",
       "           0.0000, 0.0000, 0.0000, 0.0000],\n",
       "          [0.0000, 0.0000, 0.0000, 0.0000, 0.0000, 0.0000, 0.0000, 0.0000,\n",
       "           0.0000, 0.0314, 0.4941, 0.8902, 0.9255, 0.8745, 0.8784, 0.9412,\n",
       "           0.6706, 0.0784, 0.0000, 0.0000, 0.0000, 0.0000, 0.0000, 0.0000,\n",
       "           0.0000, 0.0000, 0.0000, 0.0000],\n",
       "          [0.0000, 0.0000, 0.0000, 0.0000, 0.0000, 0.0000, 0.0000, 0.0000,\n",
       "           0.0000, 0.0000, 0.0235, 0.1804, 0.4078, 0.5020, 0.5020, 0.3647,\n",
       "           0.0863, 0.0000, 0.0000, 0.0000, 0.0000, 0.0000, 0.0000, 0.0000,\n",
       "           0.0000, 0.0000, 0.0000, 0.0000],\n",
       "          [0.0000, 0.0000, 0.0000, 0.0000, 0.0000, 0.0000, 0.0000, 0.0000,\n",
       "           0.0000, 0.0000, 0.0000, 0.0000, 0.0000, 0.0000, 0.0000, 0.0000,\n",
       "           0.0000, 0.0000, 0.0000, 0.0000, 0.0000, 0.0000, 0.0000, 0.0000,\n",
       "           0.0000, 0.0000, 0.0000, 0.0000],\n",
       "          [0.0000, 0.0000, 0.0000, 0.0000, 0.0000, 0.0000, 0.0000, 0.0000,\n",
       "           0.0000, 0.0000, 0.0000, 0.0000, 0.0000, 0.0000, 0.0000, 0.0000,\n",
       "           0.0000, 0.0000, 0.0000, 0.0000, 0.0000, 0.0000, 0.0000, 0.0000,\n",
       "           0.0000, 0.0000, 0.0000, 0.0000],\n",
       "          [0.0000, 0.0000, 0.0000, 0.0000, 0.0000, 0.0000, 0.0000, 0.0000,\n",
       "           0.0000, 0.0000, 0.0000, 0.0000, 0.0000, 0.0000, 0.0000, 0.0000,\n",
       "           0.0000, 0.0000, 0.0000, 0.0000, 0.0000, 0.0000, 0.0000, 0.0000,\n",
       "           0.0000, 0.0000, 0.0000, 0.0000],\n",
       "          [0.0000, 0.0000, 0.0000, 0.0000, 0.0000, 0.0000, 0.0000, 0.0000,\n",
       "           0.0000, 0.0000, 0.0000, 0.0000, 0.0000, 0.0000, 0.0000, 0.0000,\n",
       "           0.0000, 0.0000, 0.0000, 0.0000, 0.0000, 0.0000, 0.0000, 0.0235,\n",
       "           0.1020, 0.0353, 0.0196, 0.0000],\n",
       "          [0.0000, 0.0000, 0.0000, 0.0000, 0.0000, 0.0000, 0.0000, 0.0000,\n",
       "           0.0000, 0.0000, 0.0000, 0.0000, 0.0000, 0.0000, 0.0000, 0.0000,\n",
       "           0.0000, 0.0000, 0.0000, 0.0000, 0.0000, 0.0000, 0.0078, 0.3882,\n",
       "           0.8275, 0.6745, 0.4824, 0.0196],\n",
       "          [0.0000, 0.0000, 0.0000, 0.0000, 0.0000, 0.0000, 0.0000, 0.0000,\n",
       "           0.0000, 0.0000, 0.0000, 0.0000, 0.0000, 0.0000, 0.0000, 0.0000,\n",
       "           0.0000, 0.0000, 0.0000, 0.0000, 0.0000, 0.0000, 0.1255, 0.8235,\n",
       "           0.9569, 0.9922, 0.5804, 0.0157],\n",
       "          [0.0000, 0.0000, 0.0000, 0.0000, 0.0000, 0.0000, 0.0000, 0.0000,\n",
       "           0.0000, 0.0000, 0.0000, 0.0000, 0.0000, 0.0000, 0.0000, 0.0000,\n",
       "           0.0000, 0.0000, 0.0000, 0.0000, 0.0000, 0.0039, 0.4510, 0.9373,\n",
       "           0.7647, 0.9333, 0.2627, 0.0000],\n",
       "          [0.0000, 0.0000, 0.0000, 0.0000, 0.0000, 0.0000, 0.0000, 0.0000,\n",
       "           0.0000, 0.0000, 0.0000, 0.0000, 0.0000, 0.0000, 0.0000, 0.0000,\n",
       "           0.0000, 0.0000, 0.0000, 0.0000, 0.0000, 0.0745, 0.7765, 0.8000,\n",
       "           0.7922, 0.7647, 0.0627, 0.0000]]]),\n",
       " 0)"
      ]
     },
     "execution_count": 55,
     "metadata": {},
     "output_type": "execute_result"
    }
   ],
   "source": [
    "train_thaidigitdataset[10]"
   ]
  },
  {
   "cell_type": "markdown",
   "metadata": {},
   "source": [
    "## Create Data Loader\n"
   ]
  },
  {
   "cell_type": "code",
   "execution_count": 56,
   "metadata": {},
   "outputs": [],
   "source": [
    "# TODO: Create Data Loader\n",
    "train_loader = DataLoader(train_thaidigitdataset, batch_size=16, shuffle=True) # no need to order data to train\n",
    "validation_loader = DataLoader(validation_thaidigitdataset, batch_size=16, shuffle=False) # need to order data to validate"
   ]
  },
  {
   "cell_type": "code",
   "execution_count": 58,
   "metadata": {},
   "outputs": [],
   "source": [
    "images, labels = next(iter(train_loader)) # load an example batch"
   ]
  },
  {
   "cell_type": "code",
   "execution_count": 59,
   "metadata": {},
   "outputs": [
    {
     "data": {
      "text/plain": [
       "(torch.Size([16, 1, 28, 28]), torch.Size([16]))"
      ]
     },
     "execution_count": 59,
     "metadata": {},
     "output_type": "execute_result"
    }
   ],
   "source": [
    "images.shape, labels.shape"
   ]
  },
  {
   "cell_type": "markdown",
   "metadata": {},
   "source": [
    "## Create Model\n"
   ]
  },
  {
   "cell_type": "code",
   "execution_count": 61,
   "metadata": {},
   "outputs": [
    {
     "data": {
      "text/plain": [
       "torch.Size([16, 784])"
      ]
     },
     "execution_count": 61,
     "metadata": {},
     "output_type": "execute_result"
    }
   ],
   "source": [
    "images.view(-1,28*28).shape"
   ]
  },
  {
   "cell_type": "code",
   "execution_count": 72,
   "metadata": {},
   "outputs": [],
   "source": [
    "import torch\n",
    "import torch.nn as nn\n",
    "import torch.nn.functional as F\n",
    "\n",
    "class ThaiDigitNet(nn.Module):\n",
    "    def __init__(self):\n",
    "        super(ThaiDigitNet, self).__init__()\n",
    "        # TODO: Create Linear (Dense) Neural Network\n",
    "        self.fc1 = nn.Linear(28*28, 100)\n",
    "        self.fc2 = nn.Linear(100, 10)\n",
    "    \n",
    "    def forward(self, x):\n",
    "        # TODO: Write a forward pass\n",
    "        x = x.view(-1, 28*28)\n",
    "        x = self.fc1(x)\n",
    "        x = F.relu(x)\n",
    "        x = self.fc2(x)\n",
    "        return x"
   ]
  },
  {
   "cell_type": "code",
   "execution_count": 63,
   "metadata": {},
   "outputs": [],
   "source": [
    "# TODO: Try passing an input to the midel\n",
    "net = ThaiDigitNet()"
   ]
  },
  {
   "cell_type": "code",
   "execution_count": 65,
   "metadata": {},
   "outputs": [
    {
     "data": {
      "text/plain": [
       "torch.Size([16, 10])"
      ]
     },
     "execution_count": 65,
     "metadata": {},
     "output_type": "execute_result"
    }
   ],
   "source": [
    "prediction = net(images)\n",
    "prediction.shape"
   ]
  },
  {
   "cell_type": "code",
   "execution_count": 66,
   "metadata": {},
   "outputs": [
    {
     "data": {
      "text/plain": [
       "tensor([6, 4, 3, 3, 7, 7, 3, 7, 7, 4, 4, 3, 7, 7, 3, 3])"
      ]
     },
     "execution_count": 66,
     "metadata": {},
     "output_type": "execute_result"
    }
   ],
   "source": [
    "prediction.argmax(dim=1)"
   ]
  },
  {
   "cell_type": "code",
   "execution_count": 67,
   "metadata": {},
   "outputs": [
    {
     "data": {
      "text/plain": [
       "tensor([3, 7, 5, 1, 3, 5, 4, 6, 1, 6, 0, 9, 3, 7, 8, 4])"
      ]
     },
     "execution_count": 67,
     "metadata": {},
     "output_type": "execute_result"
    }
   ],
   "source": [
    "labels"
   ]
  },
  {
   "cell_type": "markdown",
   "metadata": {},
   "source": [
    "## Train Model\n"
   ]
  },
  {
   "cell_type": "markdown",
   "metadata": {},
   "source": [
    "**Note for loss function**\n",
    "\n",
    "- `CrossEntropyLoss` computes the cross entropy loss between logits and target. So we don't need to apply softmax to the output of the model.\n",
    "- This is equivalent to the combination of applying `LogSoftmax` at the last layer and use `NLLLoss` as a loss function.\n"
   ]
  },
  {
   "cell_type": "code",
   "execution_count": 73,
   "metadata": {},
   "outputs": [],
   "source": [
    "# TODO: Create cross entropy loss function, SGD (strocastic gradient descent) optimizer, and its learning rate\n",
    "loss_fn = nn.CrossEntropyLoss()\n",
    "optimizer = torch.optim.SGD(net.parameters(), lr=0.01) # for update model parameter"
   ]
  },
  {
   "cell_type": "code",
   "execution_count": 76,
   "metadata": {},
   "outputs": [],
   "source": [
    "# TODO: Single pass model and calculate loss\n",
    "\n",
    "# train 1 epoch\n",
    "for i, (images, labels) in enumerate(train_loader):\n",
    "    pred = net(images)\n",
    "    loss = loss_fn(pred, labels)\n",
    "\n",
    "    optimizer.zero_grad()\n",
    "    loss.backward()\n",
    "    optimizer.step() # update model param"
   ]
  },
  {
   "cell_type": "code",
   "execution_count": 78,
   "metadata": {},
   "outputs": [
    {
     "data": {
      "text/plain": [
       "98"
      ]
     },
     "execution_count": 78,
     "metadata": {},
     "output_type": "execute_result"
    }
   ],
   "source": [
    "i"
   ]
  },
  {
   "cell_type": "code",
   "execution_count": 77,
   "metadata": {},
   "outputs": [
    {
     "data": {
      "text/plain": [
       "tensor(2.2900, grad_fn=<NllLossBackward0>)"
      ]
     },
     "execution_count": 77,
     "metadata": {},
     "output_type": "execute_result"
    }
   ],
   "source": [
    "loss"
   ]
  },
  {
   "cell_type": "markdown",
   "metadata": {},
   "source": [
    "### Training Loop\n"
   ]
  },
  {
   "cell_type": "code",
   "execution_count": 79,
   "metadata": {},
   "outputs": [
    {
     "name": "stdout",
     "output_type": "stream",
     "text": [
      "Loss: 2.270350456237793, Epoch: 0, # 0\n",
      "Loss: 2.2357983589172363, Epoch: 0, # 800\n",
      "Validation Loss: 0.14141227722167968, Validation Accuracy: 0.2857142857142857\n",
      "Loss: 2.2371108531951904, Epoch: 1, # 0\n",
      "Loss: 2.1985414028167725, Epoch: 1, # 800\n",
      "Validation Loss: 0.1383900111062186, Validation Accuracy: 0.3657142857142857\n",
      "Loss: 2.180824041366577, Epoch: 2, # 0\n",
      "Loss: 2.1912033557891846, Epoch: 2, # 800\n",
      "Validation Loss: 0.1345074415206909, Validation Accuracy: 0.3485714285714286\n",
      "Loss: 2.230699300765991, Epoch: 3, # 0\n",
      "Loss: 2.1672799587249756, Epoch: 3, # 800\n",
      "Validation Loss: 0.1298505619594029, Validation Accuracy: 0.38857142857142857\n",
      "Loss: 2.004668951034546, Epoch: 4, # 0\n",
      "Loss: 2.019824743270874, Epoch: 4, # 800\n",
      "Validation Loss: 0.12463378429412841, Validation Accuracy: 0.4514285714285714\n",
      "Loss: 1.9214895963668823, Epoch: 5, # 0\n",
      "Loss: 1.9820616245269775, Epoch: 5, # 800\n",
      "Validation Loss: 0.11864741597856794, Validation Accuracy: 0.4857142857142857\n",
      "Loss: 1.8896161317825317, Epoch: 6, # 0\n",
      "Loss: 1.7405198812484741, Epoch: 6, # 800\n",
      "Validation Loss: 0.11225602081843784, Validation Accuracy: 0.49142857142857144\n",
      "Loss: 1.7579514980316162, Epoch: 7, # 0\n",
      "Loss: 1.779806137084961, Epoch: 7, # 800\n",
      "Validation Loss: 0.10615605763026646, Validation Accuracy: 0.56\n",
      "Loss: 1.6136384010314941, Epoch: 8, # 0\n",
      "Loss: 1.4965074062347412, Epoch: 8, # 800\n",
      "Validation Loss: 0.10045102528163365, Validation Accuracy: 0.5771428571428572\n",
      "Loss: 1.8066983222961426, Epoch: 9, # 0\n",
      "Loss: 1.567982792854309, Epoch: 9, # 800\n",
      "Validation Loss: 0.09535865102495467, Validation Accuracy: 0.56\n",
      "Loss: 1.579163908958435, Epoch: 10, # 0\n",
      "Loss: 1.2435977458953857, Epoch: 10, # 800\n",
      "Validation Loss: 0.09115004062652587, Validation Accuracy: 0.6057142857142858\n",
      "Loss: 1.3376026153564453, Epoch: 11, # 0\n",
      "Loss: 1.3824388980865479, Epoch: 11, # 800\n",
      "Validation Loss: 0.08721478394099644, Validation Accuracy: 0.5942857142857143\n",
      "Loss: 1.2618554830551147, Epoch: 12, # 0\n",
      "Loss: 1.1950160264968872, Epoch: 12, # 800\n",
      "Validation Loss: 0.08437067713056291, Validation Accuracy: 0.6\n",
      "Loss: 1.1355781555175781, Epoch: 13, # 0\n",
      "Loss: 1.1367669105529785, Epoch: 13, # 800\n",
      "Validation Loss: 0.08168229852403913, Validation Accuracy: 0.6\n",
      "Loss: 1.6266001462936401, Epoch: 14, # 0\n",
      "Loss: 1.3145265579223633, Epoch: 14, # 800\n",
      "Validation Loss: 0.07940965822764805, Validation Accuracy: 0.5942857142857143\n",
      "Loss: 1.6766157150268555, Epoch: 15, # 0\n",
      "Loss: 1.6895380020141602, Epoch: 15, # 800\n",
      "Validation Loss: 0.0777593571799142, Validation Accuracy: 0.5885714285714285\n",
      "Loss: 1.1209880113601685, Epoch: 16, # 0\n",
      "Loss: 1.1836915016174316, Epoch: 16, # 800\n",
      "Validation Loss: 0.07571245193481445, Validation Accuracy: 0.6342857142857142\n",
      "Loss: 0.9766252636909485, Epoch: 17, # 0\n",
      "Loss: 1.4294449090957642, Epoch: 17, # 800\n",
      "Validation Loss: 0.07461311749049596, Validation Accuracy: 0.6342857142857142\n",
      "Loss: 1.0426727533340454, Epoch: 18, # 0\n",
      "Loss: 0.9426460862159729, Epoch: 18, # 800\n",
      "Validation Loss: 0.07382588182176862, Validation Accuracy: 0.6342857142857142\n",
      "Loss: 1.2968274354934692, Epoch: 19, # 0\n",
      "Loss: 0.9516072273254395, Epoch: 19, # 800\n",
      "Validation Loss: 0.07215266295841762, Validation Accuracy: 0.6285714285714286\n",
      "Loss: 1.091907262802124, Epoch: 20, # 0\n",
      "Loss: 1.2280722856521606, Epoch: 20, # 800\n",
      "Validation Loss: 0.07105401447841099, Validation Accuracy: 0.6285714285714286\n",
      "Loss: 0.7835769057273865, Epoch: 21, # 0\n",
      "Loss: 1.0307778120040894, Epoch: 21, # 800\n",
      "Validation Loss: 0.07058708565575736, Validation Accuracy: 0.6457142857142857\n",
      "Loss: 0.7356083393096924, Epoch: 22, # 0\n",
      "Loss: 0.9642868041992188, Epoch: 22, # 800\n",
      "Validation Loss: 0.06926210675920759, Validation Accuracy: 0.6514285714285715\n",
      "Loss: 1.5537389516830444, Epoch: 23, # 0\n",
      "Loss: 1.1636059284210205, Epoch: 23, # 800\n",
      "Validation Loss: 0.06893363067081996, Validation Accuracy: 0.6457142857142857\n",
      "Loss: 0.9751455783843994, Epoch: 24, # 0\n",
      "Loss: 1.8290001153945923, Epoch: 24, # 800\n",
      "Validation Loss: 0.06827970334461757, Validation Accuracy: 0.6685714285714286\n",
      "Loss: 0.9539818167686462, Epoch: 25, # 0\n",
      "Loss: 1.1569079160690308, Epoch: 25, # 800\n",
      "Validation Loss: 0.06717386654445104, Validation Accuracy: 0.6685714285714286\n",
      "Loss: 1.0709142684936523, Epoch: 26, # 0\n",
      "Loss: 0.8923000693321228, Epoch: 26, # 800\n",
      "Validation Loss: 0.06691367796489171, Validation Accuracy: 0.6685714285714286\n",
      "Loss: 0.8749211430549622, Epoch: 27, # 0\n",
      "Loss: 0.9538190364837646, Epoch: 27, # 800\n",
      "Validation Loss: 0.06658092294420515, Validation Accuracy: 0.6685714285714286\n",
      "Loss: 0.9674199223518372, Epoch: 28, # 0\n",
      "Loss: 1.0248961448669434, Epoch: 28, # 800\n",
      "Validation Loss: 0.06584864105497087, Validation Accuracy: 0.68\n",
      "Loss: 0.9217879772186279, Epoch: 29, # 0\n",
      "Loss: 0.985612154006958, Epoch: 29, # 800\n",
      "Validation Loss: 0.06511129481451852, Validation Accuracy: 0.6685714285714286\n",
      "Loss: 0.9256460666656494, Epoch: 30, # 0\n",
      "Loss: 0.7957976460456848, Epoch: 30, # 800\n",
      "Validation Loss: 0.06516931567873274, Validation Accuracy: 0.6685714285714286\n",
      "Loss: 1.247571349143982, Epoch: 31, # 0\n",
      "Loss: 0.7264869213104248, Epoch: 31, # 800\n",
      "Validation Loss: 0.06423252378191267, Validation Accuracy: 0.6742857142857143\n",
      "Loss: 1.2351223230361938, Epoch: 32, # 0\n",
      "Loss: 1.2748923301696777, Epoch: 32, # 800\n",
      "Validation Loss: 0.06411448478698731, Validation Accuracy: 0.6742857142857143\n",
      "Loss: 1.3177398443222046, Epoch: 33, # 0\n",
      "Loss: 1.269608974456787, Epoch: 33, # 800\n",
      "Validation Loss: 0.06399071080344064, Validation Accuracy: 0.6857142857142857\n",
      "Loss: 0.8387489914894104, Epoch: 34, # 0\n",
      "Loss: 0.8872354626655579, Epoch: 34, # 800\n",
      "Validation Loss: 0.06382987805775234, Validation Accuracy: 0.7028571428571428\n",
      "Loss: 0.3995552361011505, Epoch: 35, # 0\n",
      "Loss: 0.6916782259941101, Epoch: 35, # 800\n",
      "Validation Loss: 0.06359612226486205, Validation Accuracy: 0.6857142857142857\n",
      "Loss: 0.5501068234443665, Epoch: 36, # 0\n",
      "Loss: 0.7781543135643005, Epoch: 36, # 800\n",
      "Validation Loss: 0.06329333509717669, Validation Accuracy: 0.6857142857142857\n",
      "Loss: 0.6347131133079529, Epoch: 37, # 0\n",
      "Loss: 0.6030565500259399, Epoch: 37, # 800\n",
      "Validation Loss: 0.06250480311257499, Validation Accuracy: 0.6971428571428572\n",
      "Loss: 0.3710498809814453, Epoch: 38, # 0\n",
      "Loss: 1.0626959800720215, Epoch: 38, # 800\n",
      "Validation Loss: 0.06236343315669469, Validation Accuracy: 0.6914285714285714\n",
      "Loss: 0.7336152791976929, Epoch: 39, # 0\n",
      "Loss: 1.0442984104156494, Epoch: 39, # 800\n",
      "Validation Loss: 0.06290236711502076, Validation Accuracy: 0.6857142857142857\n",
      "Loss: 1.0848650932312012, Epoch: 40, # 0\n",
      "Loss: 0.7305205464363098, Epoch: 40, # 800\n",
      "Validation Loss: 0.0620580496106829, Validation Accuracy: 0.6971428571428572\n",
      "Loss: 0.5678420066833496, Epoch: 41, # 0\n",
      "Loss: 0.8401890993118286, Epoch: 41, # 800\n",
      "Validation Loss: 0.061626490013939994, Validation Accuracy: 0.7028571428571428\n",
      "Loss: 0.6351925730705261, Epoch: 42, # 0\n",
      "Loss: 0.6257140636444092, Epoch: 42, # 800\n",
      "Validation Loss: 0.061917284386498586, Validation Accuracy: 0.6857142857142857\n",
      "Loss: 0.8343815803527832, Epoch: 43, # 0\n",
      "Loss: 0.9291775226593018, Epoch: 43, # 800\n",
      "Validation Loss: 0.0613151228427887, Validation Accuracy: 0.6971428571428572\n",
      "Loss: 0.8171991109848022, Epoch: 44, # 0\n",
      "Loss: 0.9095750451087952, Epoch: 44, # 800\n",
      "Validation Loss: 0.061220980371747696, Validation Accuracy: 0.6971428571428572\n",
      "Loss: 0.40872785449028015, Epoch: 45, # 0\n",
      "Loss: 0.6775063276290894, Epoch: 45, # 800\n",
      "Validation Loss: 0.06106831414358956, Validation Accuracy: 0.6971428571428572\n",
      "Loss: 1.0390729904174805, Epoch: 46, # 0\n",
      "Loss: 0.9515954852104187, Epoch: 46, # 800\n",
      "Validation Loss: 0.06064182553972517, Validation Accuracy: 0.6914285714285714\n",
      "Loss: 0.5589819550514221, Epoch: 47, # 0\n",
      "Loss: 0.5846779942512512, Epoch: 47, # 800\n",
      "Validation Loss: 0.060569567680358885, Validation Accuracy: 0.7085714285714285\n",
      "Loss: 0.5832201838493347, Epoch: 48, # 0\n",
      "Loss: 0.7375703454017639, Epoch: 48, # 800\n",
      "Validation Loss: 0.06070979118347168, Validation Accuracy: 0.7142857142857143\n",
      "Loss: 0.6097105145454407, Epoch: 49, # 0\n",
      "Loss: 0.9466142058372498, Epoch: 49, # 800\n",
      "Validation Loss: 0.060799770014626636, Validation Accuracy: 0.6971428571428572\n"
     ]
    }
   ],
   "source": [
    "n_epochs = 50\n",
    "update_step = 50\n",
    "\n",
    "for epoch in range(n_epochs):\n",
    "    # TODO: Write a training loop\n",
    "    # TODO: Print the train loss every 100 steps\n",
    "    net.train() # model is in the train mode \n",
    "    for batch_idx, (images, labels) in enumerate(train_loader):\n",
    "        pred = net(images)\n",
    "        loss = loss_fn(pred, labels)\n",
    "\n",
    "        optimizer.zero_grad()\n",
    "        loss.backward()\n",
    "        optimizer.step() # update model param\n",
    "\n",
    "        if batch_idx % update_step == 0:\n",
    "            print(f\"Loss: {loss.item()}, Epoch: {epoch}, # {batch_idx * len(images)}\")\n",
    "\n",
    "    # TODO: Write a validation loop\n",
    "    # TODO: Print the validation loss and accuracy every epoch\n",
    "    net.eval()\n",
    "    val_loss, correct = 0, 0\n",
    "    n_val = len(validation_loader.dataset)\n",
    "    for images, labels in validation_loader:\n",
    "        pred = net(images)\n",
    "        val_loss += loss_fn(pred, labels).item()\n",
    "        correct += (pred.argmax(dim=1) == labels).float().sum().item()\n",
    "    print(f\"Validation Loss: {val_loss / n_val}, Validation Accuracy: {correct / n_val}\")\n",
    "    "
   ]
  },
  {
   "cell_type": "markdown",
   "metadata": {},
   "source": [
    "## Save the model\n"
   ]
  },
  {
   "cell_type": "code",
   "execution_count": 80,
   "metadata": {},
   "outputs": [
    {
     "data": {
      "text/plain": [
       "OrderedDict([('fc1.weight',\n",
       "              tensor([[-0.0188,  0.0093,  0.0140,  ...,  0.0164, -0.0038,  0.0070],\n",
       "                      [-0.0301,  0.0213,  0.0170,  ...,  0.0177, -0.0325,  0.0177],\n",
       "                      [-0.0363,  0.0196,  0.0132,  ...,  0.0142,  0.0150,  0.0286],\n",
       "                      ...,\n",
       "                      [ 0.0106, -0.0221, -0.0093,  ..., -0.0149,  0.0319,  0.0210],\n",
       "                      [ 0.0363, -0.0183,  0.0356,  ..., -0.0114,  0.0102, -0.0157],\n",
       "                      [ 0.0119,  0.0261, -0.0208,  ...,  0.0239, -0.0036,  0.0217]])),\n",
       "             ('fc1.bias',\n",
       "              tensor([ 0.0082, -0.0648,  0.0240,  0.0188,  0.1412,  0.0576, -0.0121, -0.1077,\n",
       "                      -0.1481, -0.1177,  0.0329, -0.0842, -0.0350,  0.1689,  0.0671,  0.0612,\n",
       "                      -0.1061,  0.1787, -0.0676,  0.0096,  0.1791, -0.0417, -0.3452,  0.0884,\n",
       "                       0.0134, -0.0555, -0.1431, -0.0252, -0.0748, -0.0007, -0.0182, -0.0236,\n",
       "                      -0.2102, -0.0317, -0.2248,  0.0097,  0.0329, -0.0422,  0.0310, -0.1280,\n",
       "                      -0.0118,  0.0567, -0.0111,  0.0863, -0.2119, -0.0083,  0.1482, -0.1401,\n",
       "                       0.0045,  0.1492, -0.0353,  0.1759, -0.0004,  0.2308, -0.0307, -0.0105,\n",
       "                      -0.0160,  0.0285,  0.1051,  0.0729,  0.0232, -0.0150, -0.1418,  0.1095,\n",
       "                       0.0603, -0.0159, -0.0076, -0.0379,  0.0944,  0.0679, -0.1152,  0.1138,\n",
       "                      -0.0074,  0.1346, -0.1000,  0.0794, -0.0102,  0.1760, -0.2529, -0.0399,\n",
       "                      -0.1633, -0.0858, -0.0370, -0.0280,  0.1464,  0.0326,  0.0993, -0.1305,\n",
       "                      -0.0404, -0.0304, -0.0376,  0.0889,  0.1757, -0.0352,  0.0578,  0.0373,\n",
       "                       0.0056, -0.0208,  0.0648,  0.0325])),\n",
       "             ('fc2.weight',\n",
       "              tensor([[ 4.1169e-03, -5.6040e-02, -9.2208e-02,  1.9169e-01,  2.4529e-01,\n",
       "                        2.3836e-01, -9.0379e-02, -9.0205e-02,  8.7175e-03, -2.8776e-01,\n",
       "                       -9.0852e-02, -3.2420e-01, -1.8413e-01,  1.1987e-01, -2.0377e-02,\n",
       "                        4.7746e-02, -2.3043e-01,  3.9953e-01, -1.4090e-01, -2.7408e-02,\n",
       "                        2.6565e-01, -2.2555e-01, -5.1114e-01,  1.6546e-02, -7.9898e-02,\n",
       "                       -2.2383e-01,  1.2267e-01, -1.0129e-01, -1.1264e-01, -1.9865e-01,\n",
       "                       -1.3231e-01,  9.0535e-02, -3.5327e-01, -1.1578e-02, -2.8225e-01,\n",
       "                       -3.1447e-02,  1.1726e-01, -1.7377e-02,  1.1675e-01, -1.9049e-01,\n",
       "                       -9.3945e-03, -4.3335e-02,  8.2869e-02,  4.4375e-02, -3.3142e-01,\n",
       "                       -6.0573e-02,  2.2711e-01, -1.7636e-01, -3.3531e-02,  1.1969e-01,\n",
       "                        1.8956e-02,  3.4155e-01, -8.0087e-02,  2.7135e-01, -2.4490e-01,\n",
       "                       -8.8093e-02,  2.5436e-02, -4.0425e-02,  2.6846e-01,  1.6309e-02,\n",
       "                        3.1941e-02,  7.4113e-02, -2.5341e-01,  2.7379e-01,  2.2376e-01,\n",
       "                        7.3270e-02,  2.4032e-01,  5.4856e-02,  1.2299e-01,  2.8761e-01,\n",
       "                       -1.4915e-01,  4.4953e-02, -1.0655e-01,  2.3444e-01, -7.7126e-02,\n",
       "                        4.3307e-02,  1.5827e-02,  1.8157e-01, -1.4382e-01, -1.2348e-01,\n",
       "                       -1.4368e-01, -1.4265e-01, -1.7784e-01, -7.3573e-02,  4.7541e-01,\n",
       "                       -9.1903e-02,  2.2160e-01, -2.5546e-01,  1.0160e-01, -4.8390e-02,\n",
       "                       -2.8860e-04,  2.6337e-01,  2.1833e-01, -3.0153e-02,  5.7128e-02,\n",
       "                        9.8396e-02, -5.5163e-02, -8.1443e-02,  1.5400e-01,  1.1772e-01],\n",
       "                      [-7.1517e-02,  1.7684e-02,  1.6732e-01, -8.1107e-02,  3.9483e-02,\n",
       "                        2.4552e-01,  2.2140e-01,  5.3443e-02,  1.6443e-01, -4.0452e-01,\n",
       "                        1.0097e-01, -3.5129e-03, -1.5799e-01,  1.8796e-01,  1.5706e-02,\n",
       "                       -2.4110e-01,  1.2903e-01, -3.5415e-01, -4.5455e-02,  1.1061e-02,\n",
       "                        1.5854e-01, -3.4499e-02, -2.6723e-01,  2.4387e-01,  2.2305e-02,\n",
       "                        1.8181e-01, -1.3961e-01, -1.2572e-01, -1.3089e-01,  1.2521e-01,\n",
       "                        2.4966e-02, -4.8999e-03, -2.2415e-01, -7.6302e-02,  1.1446e-01,\n",
       "                       -1.8473e-01, -1.0726e-01, -1.6478e-01, -3.2641e-02, -5.3741e-02,\n",
       "                        4.6866e-02,  2.9046e-01, -1.8377e-01,  1.4359e-01, -7.7297e-02,\n",
       "                       -2.6754e-01, -2.1034e-01, -1.0039e-01,  1.2397e-01,  2.4402e-01,\n",
       "                       -6.5795e-02, -1.6801e-01,  7.6253e-02, -3.2784e-01,  1.0813e-01,\n",
       "                       -3.8150e-02,  2.7675e-02,  9.4511e-02,  1.7430e-01,  1.8861e-01,\n",
       "                       -1.4050e-01, -5.3911e-02, -2.5688e-01, -1.8504e-01,  1.4970e-01,\n",
       "                       -5.0395e-02,  2.9627e-01,  1.3880e-01, -2.0266e-01, -2.7102e-01,\n",
       "                       -3.4614e-01,  2.1188e-01, -1.4387e-02,  3.9649e-01,  8.7793e-03,\n",
       "                        4.7186e-02,  6.4238e-02, -1.4377e-01, -1.9437e-01, -6.9987e-02,\n",
       "                       -2.1263e-03, -9.6533e-02,  1.5507e-01,  7.0216e-02,  1.3669e-01,\n",
       "                        2.5200e-02, -1.4243e-01,  5.0820e-02, -2.0340e-01, -1.9119e-02,\n",
       "                       -9.2563e-02, -7.8854e-02,  3.2607e-01, -1.1853e-02, -1.0016e-01,\n",
       "                        1.9080e-01, -1.0600e-01, -1.0355e-01,  2.2112e-02,  1.9381e-02],\n",
       "                      [-4.7285e-02,  7.0837e-02, -5.0724e-02,  1.2772e-01,  1.4886e-01,\n",
       "                       -5.9735e-02,  1.1557e-01,  1.2241e-02, -1.4012e-01, -2.7047e-01,\n",
       "                       -1.1516e-01,  3.9972e-02,  4.6436e-02,  2.5069e-01, -1.9810e-01,\n",
       "                        1.7334e-02, -8.2990e-02, -1.5451e-01, -6.3279e-02, -8.0797e-02,\n",
       "                       -1.5579e-01,  7.1959e-02, -2.7544e-01, -3.1218e-01, -1.5515e-01,\n",
       "                       -3.4367e-01,  4.5564e-02,  6.3499e-02,  3.2056e-01, -2.0286e-01,\n",
       "                       -6.6969e-02, -5.2389e-02,  1.2886e-02,  1.3283e-01,  2.8856e-02,\n",
       "                       -7.6670e-02,  1.2131e-01,  2.2875e-01, -1.8823e-01,  1.6408e-01,\n",
       "                       -1.4026e-02,  5.9671e-02, -1.1020e-01, -1.1332e-01, -5.1509e-02,\n",
       "                       -1.7159e-01,  5.3145e-03,  3.8481e-01, -1.5561e-01,  2.1486e-01,\n",
       "                       -2.2717e-01, -2.4177e-01,  3.3940e-01,  1.5351e-01,  3.1097e-01,\n",
       "                       -2.6840e-01, -4.0489e-02,  4.3297e-02, -9.4005e-02, -1.2419e-01,\n",
       "                       -4.6994e-03,  9.9915e-02,  1.0831e-01, -1.8957e-02, -2.8812e-01,\n",
       "                        9.4218e-02, -2.8771e-01, -2.9956e-02, -1.5623e-02, -1.8679e-01,\n",
       "                        1.5637e-01,  4.7343e-02, -1.3530e-01,  2.0559e-01, -1.3599e-01,\n",
       "                       -1.4357e-01, -1.4769e-01,  9.4442e-02,  2.5693e-01,  2.9877e-02,\n",
       "                        2.9980e-01,  1.9359e-01,  2.1338e-01,  1.5529e-03, -1.0577e-01,\n",
       "                        4.8969e-01, -1.3658e-01, -4.1183e-02, -4.1163e-01, -5.2267e-02,\n",
       "                        1.1499e-01, -2.7664e-01, -4.3038e-02,  1.6306e-01, -1.7303e-01,\n",
       "                        1.3596e-01,  4.2013e-01, -1.8474e-02,  2.4620e-01,  3.9241e-02],\n",
       "                      [ 8.3517e-02, -9.3370e-02,  9.1303e-02,  8.4699e-02,  2.4638e-01,\n",
       "                       -6.4978e-02,  2.8758e-02, -8.7663e-02, -5.3349e-01,  1.0304e-01,\n",
       "                        2.4724e-01,  2.8528e-01, -4.7977e-02, -7.6531e-02,  2.3655e-02,\n",
       "                        2.1372e-01, -1.5655e-01, -3.0211e-01, -8.7641e-02,  6.9269e-02,\n",
       "                       -2.4383e-01,  1.6551e-01, -5.1738e-02, -6.3301e-02,  1.3464e-01,\n",
       "                        7.1884e-03, -2.9311e-01,  1.0647e-01, -2.3802e-01,  6.2808e-02,\n",
       "                        7.9632e-02, -2.6598e-01, -1.8188e-01,  2.2689e-01, -3.7386e-01,\n",
       "                       -1.2216e-01,  5.0243e-02, -1.0051e-01, -1.3819e-01, -7.8420e-02,\n",
       "                        9.1012e-02,  1.3290e-01,  8.5746e-02, -1.3958e-01, -1.6058e-01,\n",
       "                        3.0236e-01, -9.9205e-02, -2.1921e-01, -3.6188e-01,  1.8350e-01,\n",
       "                       -6.3392e-02,  1.2917e-01,  2.4214e-01,  4.7994e-01,  1.0532e-01,\n",
       "                       -5.4182e-02, -5.5080e-02,  1.9578e-01, -6.4628e-02, -3.3939e-01,\n",
       "                        3.6176e-02, -5.5468e-02,  2.3264e-01,  2.5799e-01, -8.8732e-02,\n",
       "                        3.6789e-02, -3.3216e-01,  2.0840e-01,  1.5509e-01, -1.0036e-01,\n",
       "                        2.6443e-01,  2.0964e-02,  1.2253e-01, -4.4427e-01,  4.1119e-02,\n",
       "                       -2.3676e-02,  2.1607e-01,  2.6946e-01, -2.9602e-01,  5.8863e-02,\n",
       "                       -1.4355e-01, -2.7271e-01,  3.2133e-01,  2.6034e-02, -4.5168e-02,\n",
       "                        3.7907e-01,  2.9576e-02,  1.5197e-02, -5.8094e-02,  1.9176e-01,\n",
       "                       -1.8481e-02,  3.2662e-02,  4.9441e-02, -5.5496e-02,  1.8367e-01,\n",
       "                        3.7234e-01,  3.0024e-01, -1.0100e-01, -7.9754e-02,  3.4144e-02],\n",
       "                      [-3.8414e-03,  1.6990e-02, -2.3400e-01, -9.1146e-02, -4.1787e-02,\n",
       "                        4.1134e-01, -5.7716e-02, -4.4663e-02,  3.4002e-01,  2.4187e-01,\n",
       "                        1.6540e-01, -8.9416e-02, -1.7729e-01, -2.1803e-01, -1.8042e-02,\n",
       "                        4.5744e-02,  5.0517e-02, -2.6108e-01,  8.4603e-03, -1.5326e-01,\n",
       "                        5.9614e-02, -5.7989e-02,  3.6955e-01, -2.9917e-01,  1.9009e-03,\n",
       "                       -7.7136e-02,  2.6030e-01,  1.4596e-01,  6.6035e-02, -1.2798e-01,\n",
       "                        1.3269e-01,  1.9723e-01, -3.6519e-02,  1.4279e-01, -2.3231e-02,\n",
       "                        4.1151e-02, -6.4382e-02, -7.5946e-02,  1.3151e-01,  1.7492e-01,\n",
       "                       -3.4273e-02, -2.5031e-02,  2.2405e-01,  1.8750e-01,  2.3739e-01,\n",
       "                       -8.8173e-02,  2.3269e-01, -7.2744e-02,  2.3797e-01, -5.6680e-02,\n",
       "                       -1.9837e-01, -1.5147e-02, -1.5465e-01, -4.1512e-01, -1.1461e-02,\n",
       "                       -4.3992e-02, -6.0837e-02,  3.8523e-04,  1.5477e-01,  1.0565e-01,\n",
       "                        5.2554e-02, -1.2674e-01,  3.4961e-01,  9.3379e-02,  1.6176e-01,\n",
       "                        4.9293e-02, -1.3762e-01, -1.3132e-01,  6.6360e-02, -1.4251e-01,\n",
       "                        1.5284e-01, -1.8598e-01, -1.2730e-01, -1.5868e-01,  1.4871e-01,\n",
       "                        1.0498e-01,  7.1203e-02, -2.6359e-01,  1.8951e-01,  2.9831e-01,\n",
       "                        6.8725e-02, -5.2752e-02,  1.5352e-01, -8.9413e-02, -3.4964e-01,\n",
       "                       -2.6606e-01, -3.5084e-02,  1.9910e-01,  2.9417e-01,  1.6290e-01,\n",
       "                       -9.2533e-02,  1.1074e-01, -9.1268e-02,  4.0485e-02, -1.3179e-01,\n",
       "                        1.8784e-02,  6.4169e-04,  6.4912e-02,  9.0705e-02, -1.6294e-01],\n",
       "                      [ 6.0768e-02,  1.1276e-01, -5.6211e-02,  1.4066e-02, -1.9570e-01,\n",
       "                        1.8185e-01, -1.6381e-01,  1.9628e-01,  4.5470e-01,  4.1242e-02,\n",
       "                        7.0210e-02, -1.3070e-01,  4.8945e-02, -3.8774e-01, -2.0934e-01,\n",
       "                       -1.9978e-01,  5.7162e-02, -1.3262e-01,  2.5441e-01,  1.3380e-02,\n",
       "                       -2.1849e-01, -1.8148e-01,  3.5692e-01, -4.0783e-02, -3.5737e-02,\n",
       "                        3.1158e-01,  3.5972e-01, -6.8695e-02, -2.5982e-01, -1.5576e-01,\n",
       "                       -1.6144e-01,  6.6752e-02,  2.8617e-01, -3.1571e-02,  3.6002e-01,\n",
       "                        3.0032e-02,  1.1686e-01,  4.5281e-02, -5.7154e-02, -5.1792e-04,\n",
       "                       -8.8731e-02, -1.2386e-01,  5.4079e-03, -2.9474e-01,  2.7591e-01,\n",
       "                        9.0022e-02, -1.4705e-01,  3.7977e-02, -7.0151e-02, -3.7101e-01,\n",
       "                        3.1463e-01,  4.7746e-02, -2.3940e-01, -3.4771e-01, -4.2046e-01,\n",
       "                        1.8801e-01, -8.2348e-02, -9.4994e-02, -1.9286e-01, -2.8353e-01,\n",
       "                       -1.7676e-01, -6.0385e-02, -9.7054e-03,  3.2569e-02,  2.3396e-01,\n",
       "                        4.0758e-02,  5.2463e-01,  2.8474e-01,  1.3637e-01, -1.1009e-02,\n",
       "                        4.5436e-02, -2.0965e-01,  4.2198e-02, -1.5384e-01,  2.0695e-01,\n",
       "                       -1.3757e-01,  7.7264e-02, -1.1866e-01,  3.8537e-01, -2.0504e-01,\n",
       "                        2.9228e-02,  4.4522e-02, -2.0049e-01, -3.9621e-02,  1.5182e-01,\n",
       "                       -3.9664e-01, -1.4276e-02, -1.2865e-01,  4.0811e-01,  4.7306e-03,\n",
       "                        1.5985e-01,  2.2567e-01,  3.5404e-02, -1.1109e-01,  3.3332e-02,\n",
       "                        1.3099e-01, -2.4502e-01,  9.7143e-02, -1.4110e-01,  1.8594e-02],\n",
       "                      [ 7.9557e-03, -7.4694e-02, -3.6428e-01,  1.2134e-01, -1.7737e-01,\n",
       "                        1.2580e-01, -1.7058e-01,  2.5328e-02, -6.2387e-02, -3.3144e-01,\n",
       "                       -8.6117e-02,  1.4967e-01, -2.2865e-01,  4.0332e-01,  5.5557e-02,\n",
       "                       -1.5340e-01,  1.9377e-01,  4.6762e-02, -1.6880e-01,  1.6661e-01,\n",
       "                        2.3827e-01,  1.4158e-01, -3.5844e-01, -1.2090e-01, -1.8182e-02,\n",
       "                       -3.5785e-01, -2.9510e-01,  7.9936e-02,  2.1603e-01, -2.2556e-01,\n",
       "                       -9.9048e-02, -1.9516e-01, -3.4553e-01,  8.7139e-03,  1.0995e-01,\n",
       "                        2.5264e-01, -2.0624e-02,  7.4574e-02, -1.0789e-01, -1.3045e-01,\n",
       "                       -1.2230e-01, -2.2162e-02, -1.0076e-01,  2.8553e-02,  1.7899e-01,\n",
       "                       -1.8586e-01,  7.7048e-02,  1.0901e-01,  3.7036e-01,  2.2266e-01,\n",
       "                       -3.6451e-01, -2.7336e-01, -6.1415e-02, -2.3432e-01,  6.3033e-02,\n",
       "                       -2.2496e-01,  1.0013e-02, -2.4097e-01, -1.7965e-01,  2.7046e-01,\n",
       "                        1.0419e-01, -3.6002e-02, -3.9481e-01,  8.1841e-02,  8.8879e-02,\n",
       "                        6.8403e-02, -3.1404e-01, -4.4918e-01, -1.4952e-01,  3.3152e-02,\n",
       "                       -3.0759e-01, -1.3492e-02,  8.1643e-02,  5.2665e-01, -2.3331e-01,\n",
       "                       -1.2980e-01, -1.2134e-01, -1.9669e-02,  3.5178e-01,  1.3800e-01,\n",
       "                        2.2331e-01,  4.0435e-01,  1.1987e-01,  7.9612e-02, -1.8885e-01,\n",
       "                        1.4394e-01, -7.6517e-02, -2.8987e-01, -1.4091e-01, -1.3391e-01,\n",
       "                        3.6839e-02, -1.9307e-01,  1.2174e-01, -3.3558e-02,  1.1602e-01,\n",
       "                       -2.6743e-01, -1.7868e-01,  9.0236e-03,  4.6997e-01, -1.3707e-01],\n",
       "                      [-5.2747e-02, -8.1249e-03,  5.2645e-02, -1.4868e-01, -1.5708e-01,\n",
       "                       -5.2820e-01,  3.4313e-02,  1.2244e-01, -3.1060e-01,  3.8201e-01,\n",
       "                       -2.5537e-01,  1.8137e-01,  5.4839e-02, -2.2015e-01,  2.3333e-01,\n",
       "                        6.2547e-02,  5.0808e-02,  3.2381e-01,  2.3826e-01,  2.7387e-02,\n",
       "                       -8.9651e-02,  1.5422e-01,  3.1060e-01,  3.2846e-01, -1.6776e-01,\n",
       "                       -5.4088e-02, -8.9471e-02, -9.7004e-02,  6.1591e-02,  3.2147e-01,\n",
       "                        4.4873e-02,  8.4048e-02,  1.5600e-01,  1.3278e-01,  1.2078e-01,\n",
       "                        1.2930e-01, -3.3928e-02, -6.0289e-02,  1.2220e-01, -7.5760e-02,\n",
       "                       -8.9688e-02, -1.8730e-01,  1.6935e-01,  2.8606e-02, -1.2104e-01,\n",
       "                        2.9181e-01, -2.1449e-01, -2.2772e-01,  4.3695e-02,  1.1269e-01,\n",
       "                        1.1617e-01,  7.4105e-02,  1.3375e-01,  4.5223e-01,  9.6110e-02,\n",
       "                       -1.5705e-02,  4.6910e-02,  1.7219e-01,  4.5106e-02,  1.7898e-01,\n",
       "                       -1.7826e-02, -1.8368e-02,  4.1238e-02,  1.0936e-01, -2.7026e-01,\n",
       "                       -6.8125e-02, -1.3249e-01,  7.6188e-02, -2.5049e-01,  1.4180e-01,\n",
       "                        2.6308e-01, -2.6869e-02,  3.6213e-02, -2.9128e-01,  7.1368e-02,\n",
       "                       -7.0249e-03, -7.7367e-02, -8.8007e-02, -2.2406e-02,  1.1474e-01,\n",
       "                       -9.7101e-02, -3.2499e-01,  3.3832e-02,  6.9853e-02, -5.3959e-02,\n",
       "                        1.5586e-01, -1.1898e-01,  2.3349e-01,  4.1330e-02,  6.9980e-02,\n",
       "                        1.6368e-01, -1.8773e-01, -1.0487e-01, -1.4792e-03,  8.3765e-02,\n",
       "                       -7.9763e-02, -2.3502e-01,  9.0267e-02, -2.4454e-01, -1.3528e-02],\n",
       "                      [ 3.6755e-02, -1.3013e-01,  1.1849e-01,  3.4927e-02,  4.4421e-02,\n",
       "                        9.2090e-02,  3.8262e-02, -1.6932e-01, -7.1499e-03,  3.2181e-01,\n",
       "                       -2.4986e-01,  1.1900e-03,  2.4875e-01, -4.1129e-02,  3.0659e-01,\n",
       "                        1.6863e-04,  9.1586e-02,  4.1403e-01, -2.4260e-01, -1.6494e-02,\n",
       "                       -1.2469e-01, -1.8102e-01, -1.0438e-01, -9.2844e-02,  1.0074e-01,\n",
       "                       -1.6539e-01,  3.0551e-01,  1.0185e-01,  1.2101e-01,  2.1612e-01,\n",
       "                        9.7205e-02,  1.2976e-01,  3.6234e-01, -9.5663e-02, -2.0747e-02,\n",
       "                       -2.6181e-02, -1.3028e-01,  9.9296e-02, -1.3585e-02,  8.9324e-02,\n",
       "                        7.8622e-02, -2.7266e-03, -1.7351e-01,  1.4258e-01, -6.0211e-02,\n",
       "                        6.4780e-02, -1.6315e-02,  1.2347e-01,  2.7545e-01, -3.7907e-02,\n",
       "                        1.8636e-01,  2.6814e-02, -1.6114e-01,  3.0262e-02, -1.9459e-02,\n",
       "                       -2.0632e-01,  1.3619e-01, -2.6220e-01,  1.5263e-01,  1.7241e-01,\n",
       "                        1.8676e-02, -8.6446e-02,  3.6520e-02, -1.3276e-01,  2.1686e-01,\n",
       "                       -6.3134e-02,  1.8164e-01,  2.0238e-02, -1.5360e-01,  3.7911e-01,\n",
       "                        1.7102e-01,  7.0988e-02, -1.3834e-01,  8.6798e-04,  1.2071e-01,\n",
       "                       -1.4590e-01,  1.4051e-01, -1.4171e-01, -2.0903e-01, -1.3999e-01,\n",
       "                       -1.8049e-01,  1.0656e-02, -1.3900e-01,  4.4856e-02, -1.8327e-01,\n",
       "                       -1.7248e-01,  5.2641e-02,  4.6141e-02,  2.4230e-01,  1.1244e-01,\n",
       "                        1.4910e-01, -2.6831e-02, -2.9418e-01,  5.1248e-03, -7.6526e-02,\n",
       "                       -3.0453e-01, -1.3776e-01, -1.3414e-02, -4.3904e-02, -9.3658e-02],\n",
       "                      [ 8.1477e-02, -1.4769e-01,  4.8200e-01,  2.5817e-03,  1.1327e-03,\n",
       "                       -3.6840e-01,  2.0414e-02, -1.1664e-01,  2.6073e-01,  1.6791e-01,\n",
       "                       -3.8667e-02, -2.3918e-01,  2.5901e-01, -3.1723e-01, -2.6286e-01,\n",
       "                        1.3550e-01, -1.9420e-01,  1.2235e-01,  3.6048e-01, -1.1558e-01,\n",
       "                       -1.4996e-01, -9.7402e-02,  3.6868e-01,  3.5482e-01,  1.4024e-01,\n",
       "                        4.8729e-01, -8.6281e-02,  1.6509e-02, -2.4927e-01,  1.7985e-01,\n",
       "                        1.8204e-02,  3.5249e-01,  2.9577e-01, -4.8672e-02, -2.5195e-02,\n",
       "                       -1.2079e-01,  1.5941e-01, -1.4298e-01, -5.4696e-02, -7.6034e-02,\n",
       "                       -1.0616e-01, -2.0662e-01,  1.2918e-01,  1.8128e-01,  1.4624e-01,\n",
       "                       -7.8691e-02, -2.2496e-02,  1.6546e-02, -2.9005e-01, -5.4057e-01,\n",
       "                        1.1261e-01,  1.7469e-02,  1.3383e-01,  1.2422e-01, -2.6433e-01,\n",
       "                        5.5753e-01, -8.8598e-02,  2.0722e-01, -6.7123e-02,  2.5075e-02,\n",
       "                       -7.9699e-03,  4.7412e-02,  2.7857e-01, -9.1906e-02, -1.8058e-01,\n",
       "                        7.3123e-02, -1.6654e-01,  5.0654e-04,  2.0099e-01, -2.9918e-01,\n",
       "                       -7.3903e-02, -2.0822e-01, -1.1406e-02, -3.3750e-01, -1.7622e-01,\n",
       "                        1.9777e-01, -1.1872e-01,  1.0467e-01, -1.0344e-01, -1.8246e-01,\n",
       "                       -2.1296e-01,  1.6426e-01, -1.1223e-01, -7.4855e-02, -7.7276e-02,\n",
       "                       -1.8583e-01,  1.2053e-01,  1.1794e-01, -8.0963e-02, -7.4781e-02,\n",
       "                       -2.2145e-01, -6.6985e-02,  7.8774e-02, -4.5152e-02, -3.2906e-02,\n",
       "                       -7.6829e-02, -3.5594e-02, -1.0492e-01, -3.6082e-01,  1.7797e-01]])),\n",
       "             ('fc2.bias',\n",
       "              tensor([ 0.7062,  0.1479, -0.3073,  0.1631, -0.0910, -0.4717,  0.2748, -0.1835,\n",
       "                       0.0378, -0.0097]))])"
      ]
     },
     "execution_count": 80,
     "metadata": {},
     "output_type": "execute_result"
    }
   ],
   "source": [
    "net.state_dict()"
   ]
  },
  {
   "cell_type": "code",
   "execution_count": 81,
   "metadata": {},
   "outputs": [
    {
     "data": {
      "text/plain": [
       "(torch.Size([100, 784]), torch.Size([100]))"
      ]
     },
     "execution_count": 81,
     "metadata": {},
     "output_type": "execute_result"
    }
   ],
   "source": [
    "net.state_dict()[\"fc1.weight\"].shape, net.state_dict()[\"fc1.bias\"].shape"
   ]
  },
  {
   "cell_type": "code",
   "execution_count": 84,
   "metadata": {},
   "outputs": [],
   "source": [
    "save_path = \"model/thai_digit_pth\"\n",
    "torch.save(net.state_dict(), save_path)"
   ]
  },
  {
   "cell_type": "markdown",
   "metadata": {},
   "source": [
    "## Load trained model and predict on a sample image\n"
   ]
  },
  {
   "cell_type": "code",
   "execution_count": 88,
   "metadata": {},
   "outputs": [
    {
     "data": {
      "text/plain": [
       "<All keys matched successfully>"
      ]
     },
     "execution_count": 88,
     "metadata": {},
     "output_type": "execute_result"
    }
   ],
   "source": [
    "model = ThaiDigitNet() # define model \n",
    "model.load_state_dict(torch.load(\"model/thai_digit_pth\")) # load saved model param"
   ]
  },
  {
   "cell_type": "code",
   "execution_count": 90,
   "metadata": {},
   "outputs": [
    {
     "data": {
      "image/png": "[encoded data removed]",
      "text/plain": [
       "<Figure size 640x480 with 1 Axes>"
      ]
     },
     "metadata": {},
     "output_type": "display_data"
    }
   ],
   "source": [
    "from glob import glob\n",
    "\n",
    "sample_path = glob(\"data/thai-handwritten-dataset/*/*.png\")[50]\n",
    "img = Image.open(sample_path)\n",
    "y_true = Path(sample_path).parent.name\n",
    "\n",
    "img = 1 - transform(img)\n",
    "y_pred = model(img)\n",
    "y_pred = y_pred.argmax(dim=1)\n",
    "\n",
    "plt.title(\"Predicted class = {}, True class = {}\".format(y_pred, y_true))\n",
    "plt.imshow(img.squeeze(0), cmap=\"gray\")\n",
    "plt.show()"
   ]
  }
 ],
 "metadata": {
  "kernelspec": {
   "display_name": "intro-to-pytorch",
   "language": "python",
   "name": "python3"
  },
  "language_info": {
   "codemirror_mode": {
    "name": "ipython",
    "version": 3
   },
   "file_extension": ".py",
   "mimetype": "text/x-python",
   "name": "python",
   "nbconvert_exporter": "python",
   "pygments_lexer": "ipython3",
   "version": "3.11.7"
  }
 },
 "nbformat": 4,
 "nbformat_minor": 2
}
